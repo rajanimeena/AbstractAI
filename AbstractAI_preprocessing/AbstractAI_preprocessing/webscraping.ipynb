{
 "cells": [
  {
   "cell_type": "code",
   "execution_count": 17,
   "metadata": {},
   "outputs": [],
   "source": [
    "import selenium "
   ]
  },
  {
   "cell_type": "code",
   "execution_count": 24,
   "metadata": {},
   "outputs": [],
   "source": [
    "import pandas as pd"
   ]
  },
  {
   "cell_type": "code",
   "execution_count": 28,
   "metadata": {},
   "outputs": [],
   "source": [
    "import requests\n",
    "from bs4 import BeautifulSoup\n",
    "import csv\n",
    "\n",
    "# Define the Scopus search URL\n",
    "url = \"https://www.scopus.com/results/results.uri\"\n",
    "\n",
    "# Define the search query (replace with your query)\n",
    "search_query = \"engineering\"  # Modify your query as needed\n",
    "params = {\n",
    "    \"origin\": \"searchbasic\",\n",
    "    \"src\": \"s\",\n",
    "    \"st1\": search_query,\n",
    "    \"st2\": \"TITLE-ABS-KEY\",\n",
    "}\n",
    "\n",
    "# Send an HTTP GET request to Scopus\n",
    "response = requests.get(url, params=params)\n",
    "\n",
    "# Parse the HTML content with BeautifulSoup\n",
    "soup = BeautifulSoup(response.content, 'html.parser')\n",
    "\n",
    "# Find and sort the search results by the number of citations\n",
    "results = soup.find_all(\"div\", class_=\"result-item\")\n",
    "\n",
    "# Create and open a CSV file for writing\n",
    "with open(\"scopus_data.csv\", mode=\"w\", newline='', encoding='utf-8') as csv_file:\n",
    "    fieldnames = ['Title', 'Abstract']\n",
    "    writer = csv.DictWriter(csv_file, fieldnames=fieldnames)\n",
    "    \n",
    "    # Write the CSV header\n",
    "    writer.writeheader()\n",
    "    \n",
    "    # Write data to the CSV file, limiting to 200 rows\n",
    "    for result in results[:200]:\n",
    "        title = result.find(\"h2\", class_=\"title\")\n",
    "        abstract = result.find(\"div\", class_=\"abstract\")\n",
    "        \n",
    "        # Check if title and abstract are present before writing\n",
    "        if title and abstract:\n",
    "            writer.writerow({'Title': title.get_text(strip=True), 'Abstract': abstract.get_text(strip=True)})\n"
   ]
  },
  {
   "cell_type": "code",
   "execution_count": 29,
   "metadata": {},
   "outputs": [
    {
     "data": {
      "text/plain": [
       "[]"
      ]
     },
     "execution_count": 29,
     "metadata": {},
     "output_type": "execute_result"
    }
   ],
   "source": [
    "results"
   ]
  },
  {
   "cell_type": "code",
   "execution_count": 25,
   "metadata": {},
   "outputs": [],
   "source": [
    "df = pd.read_csv(\"highly_cited_engineering_papers.csv\")"
   ]
  },
  {
   "cell_type": "code",
   "execution_count": 26,
   "metadata": {},
   "outputs": [
    {
     "data": {
      "text/html": [
       "<div>\n",
       "<style scoped>\n",
       "    .dataframe tbody tr th:only-of-type {\n",
       "        vertical-align: middle;\n",
       "    }\n",
       "\n",
       "    .dataframe tbody tr th {\n",
       "        vertical-align: top;\n",
       "    }\n",
       "\n",
       "    .dataframe thead th {\n",
       "        text-align: right;\n",
       "    }\n",
       "</style>\n",
       "<table border=\"1\" class=\"dataframe\">\n",
       "  <thead>\n",
       "    <tr style=\"text-align: right;\">\n",
       "      <th></th>\n",
       "      <th>Title</th>\n",
       "      <th>Abstract</th>\n",
       "    </tr>\n",
       "  </thead>\n",
       "  <tbody>\n",
       "  </tbody>\n",
       "</table>\n",
       "</div>"
      ],
      "text/plain": [
       "Empty DataFrame\n",
       "Columns: [Title, Abstract]\n",
       "Index: []"
      ]
     },
     "execution_count": 26,
     "metadata": {},
     "output_type": "execute_result"
    }
   ],
   "source": [
    "df.head()"
   ]
  },
  {
   "cell_type": "code",
   "execution_count": null,
   "metadata": {},
   "outputs": [],
   "source": []
  }
 ],
 "metadata": {
  "kernelspec": {
   "display_name": "Python 3",
   "language": "python",
   "name": "python3"
  },
  "language_info": {
   "codemirror_mode": {
    "name": "ipython",
    "version": 3
   },
   "file_extension": ".py",
   "mimetype": "text/x-python",
   "name": "python",
   "nbconvert_exporter": "python",
   "pygments_lexer": "ipython3",
   "version": "3.11.5"
  },
  "orig_nbformat": 4
 },
 "nbformat": 4,
 "nbformat_minor": 2
}
