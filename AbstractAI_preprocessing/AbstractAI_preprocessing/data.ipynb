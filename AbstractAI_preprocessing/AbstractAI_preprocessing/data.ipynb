{
 "cells": [
  {
   "cell_type": "code",
   "execution_count": 5,
   "metadata": {},
   "outputs": [
    {
     "name": "stdout",
     "output_type": "stream",
     "text": [
      "CSV file updated successfully.\n"
     ]
    }
   ],
   "source": [
    "import csv\n",
    "import re\n",
    "\n",
    "# Specify the input and output file paths\n",
    "input_file_path = r\"C:\\\\Users\\\\rmeena\\AbstractAI_preprocessing\\Dataset\\\\AbstractAI1_3.csv\"  # Replace with your input file path\n",
    "output_file_path = 'output.csv'  # Replace with your output file path\n",
    "\n",
    "# Define a function to replace \"two\" with \"five\" in text if it starts with \"###\"\n",
    "def replace_two_with_five(text):\n",
    "    if text.startswith(\"###\"):\n",
    "        return re.sub(r'\\btwo\\b', 'five', text)\n",
    "    return text\n",
    "\n",
    "# Read the CSV file and update the \"Instruction Prompt\" column\n",
    "with open(input_file_path, mode='r', newline='') as csv_file, \\\n",
    "        open(output_file_path, mode='w', newline='') as output_csv_file:\n",
    "    csv_reader = csv.DictReader(csv_file)\n",
    "    fieldnames = csv_reader.fieldnames\n",
    "    csv_writer = csv.DictWriter(output_csv_file, fieldnames=fieldnames)\n",
    "    csv_writer.writeheader()\n",
    "\n",
    "    for row in csv_reader:\n",
    "        row['Instruction Prompt'] = replace_two_with_five(row['Instruction Prompt'])\n",
    "        csv_writer.writerow(row)\n",
    "\n",
    "print(\"CSV file updated successfully.\")\n"
   ]
  },
  {
   "cell_type": "code",
   "execution_count": null,
   "metadata": {},
   "outputs": [],
   "source": []
  }
 ],
 "metadata": {
  "kernelspec": {
   "display_name": "Python 3",
   "language": "python",
   "name": "python3"
  },
  "language_info": {
   "codemirror_mode": {
    "name": "ipython",
    "version": 3
   },
   "file_extension": ".py",
   "mimetype": "text/x-python",
   "name": "python",
   "nbconvert_exporter": "python",
   "pygments_lexer": "ipython3",
   "version": "3.11.5"
  },
  "orig_nbformat": 4
 },
 "nbformat": 4,
 "nbformat_minor": 2
}
